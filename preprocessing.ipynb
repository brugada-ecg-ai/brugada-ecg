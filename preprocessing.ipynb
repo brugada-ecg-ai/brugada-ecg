{
 "cells": [
  {
   "cell_type": "markdown",
   "id": "bb223bc4-5c00-481a-93c6-c5fefb021b01",
   "metadata": {},
   "source": [
    "## ECG data preprocessing\n",
    "1. Convert xml to json\n",
    "2. Save in two folders: positive and negative\n",
    "3. Extract relevant metadata\n",
    "4. Decode data\n",
    "5. Remove specific dates\n",
    "6. Save to numpy"
   ]
  },
  {
   "cell_type": "code",
   "execution_count": 40,
   "id": "02549e68-dbdf-4067-80e5-19a8b52e7896",
   "metadata": {},
   "outputs": [],
   "source": [
    "import json\n",
    "from pathlib import Path\n",
    "import xmltodict\n",
    "from tqdm.notebook import tqdm"
   ]
  },
  {
   "cell_type": "code",
   "execution_count": 29,
   "id": "2dc50f3d-9f94-4a2e-a039-058e9e8a7337",
   "metadata": {},
   "outputs": [],
   "source": [
    "# define paths and create output directories\n",
    "root_dir = Path('L:/basic/diva/CB/Leon Oostrum/Ajmaline_data')\n",
    "json_dir = Path('L:/basic/diva/CB/Leon Oostrum/Ajmaline_data_json')\n",
    "\n",
    "output_dir_neg = json_dir / 'negative'\n",
    "output_dir_pos = json_dir / 'positive'\n",
    "\n",
    "output_dir_neg.mkdir(parents=True, exist_ok=True)\n",
    "output_dir_pos.mkdir(parents=True, exist_ok=True)"
   ]
  },
  {
   "cell_type": "code",
   "execution_count": 16,
   "id": "ad357374-69cc-421c-95b3-14701dee1758",
   "metadata": {},
   "outputs": [
    {
     "name": "stdout",
     "output_type": "stream",
     "text": [
      "Found 8658 negatives and 3327 positives\n"
     ]
    }
   ],
   "source": [
    "# obtain list of xml files\n",
    "xml_files_neg = list(root_dir.glob('*/Pseudo_Neg/*.xml'))\n",
    "xml_files_pos = list(root_dir.glob('*/Pseudo_Pos/*.xml'))\n",
    "\n",
    "print(f'Found {len(xml_files_neg)} negatives and {len(xml_files_pos)} positives')"
   ]
  },
  {
   "cell_type": "code",
   "execution_count": 32,
   "id": "4c8c84db-e3e7-44ad-861a-f21525161b1d",
   "metadata": {},
   "outputs": [],
   "source": [
    "# function to convert a single xml file to json and store it\n",
    "def convert_to_json(fname, output_dir):\n",
    "    output_fname = output_dir / fname.name.replace('.xml','.json')\n",
    "    if output_fname.exists():\n",
    "        return\n",
    "    with open(fname, 'r') as fp:\n",
    "        data = xmltodict.parse(fp.read())\n",
    "    with open(output_fname, 'w') as fp:\n",
    "        fp.write(json.dumps(data))"
   ]
  },
  {
   "cell_type": "code",
   "execution_count": null,
   "id": "878ce249-4a00-4ee2-955a-388d10b39570",
   "metadata": {},
   "outputs": [
    {
     "data": {
      "application/vnd.jupyter.widget-view+json": {
       "model_id": "7de8fdc28d304106a323c310f2698545",
       "version_major": 2,
       "version_minor": 0
      },
      "text/plain": [
       "Negatives:   0%|          | 0/8658 [00:00<?, ?it/s]"
      ]
     },
     "metadata": {},
     "output_type": "display_data"
    }
   ],
   "source": [
    "# convert all the xml files to json\n",
    "for fname in tqdm(xml_files_neg, desc='Negatives'):\n",
    "    convert_to_json(fname, output_dir_neg)\n",
    "    \n",
    "for fname in tqdm(xml_files_pos, desc='Positives'):\n",
    "    convert_to_json(fname, output_dir_pos)"
   ]
  },
  {
   "cell_type": "code",
   "execution_count": null,
   "id": "d28ee89f-b552-450e-82f3-7f70e8e762ea",
   "metadata": {},
   "outputs": [],
   "source": []
  }
 ],
 "metadata": {
  "kernelspec": {
   "display_name": "Python 3 (ipykernel)",
   "language": "python",
   "name": "python3"
  },
  "language_info": {
   "codemirror_mode": {
    "name": "ipython",
    "version": 3
   },
   "file_extension": ".py",
   "mimetype": "text/x-python",
   "name": "python",
   "nbconvert_exporter": "python",
   "pygments_lexer": "ipython3",
   "version": "3.9.9"
  }
 },
 "nbformat": 4,
 "nbformat_minor": 5
}
